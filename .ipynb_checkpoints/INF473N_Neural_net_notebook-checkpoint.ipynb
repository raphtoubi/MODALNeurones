{
 "cells": [
  {
   "cell_type": "code",
   "execution_count": 25,
   "metadata": {
    "pycharm": {}
   },
   "outputs": [],
   "source": [
    "import os as os\n",
    "\n",
    "import numpy as np\n",
    "\n",
    "import tensorflow.keras as keras\n",
    "import tensorflow.train as train\n",
    "import tensorflow.nn as nn\n",
    "\n",
    "from sklearn.model_selection import train_test_split"
   ]
  },
  {
   "cell_type": "markdown",
   "metadata": {},
   "source": [
    "Attribute a number to a aminoacid"
   ]
  },
  {
   "cell_type": "code",
   "execution_count": 26,
   "metadata": {
    "pycharm": {}
   },
   "outputs": [],
   "source": [
    "def convertLabel(sequence):\n",
    "    label = sequence[7]\n",
    "    aminoacidList = [\"ALA\", \"ARG\", \"ASN\", \"ASP\", \"CYS\", \"GLU\", \"GLN\", \"GLY\", \"HIS\", \"ILE\",\n",
    "                    \"LEU\", \"LYS\", \"MET\", \"PHE\", \"PRO\", \"PYL\", \"SEL\", \"SER\", \"THR\", \"TRP\", \"TYR\", \"VAL\"]\n",
    "    for i in range (0, 22):\n",
    "        if label == aminoacidList[i]:\n",
    "            return i"
   ]
  },
  {
   "cell_type": "markdown",
   "metadata": {},
   "source": [
    "Loading the data"
   ]
  },
  {
   "cell_type": "code",
   "execution_count": 27,
   "metadata": {
    "pycharm": {
     "metadata": false,
     "name": "#%%\n"
    }
   },
   "outputs": [],
   "source": [
    "def load_data():\n",
    "\n",
    "\n",
    "    labelList = []\n",
    "\n",
    "    with open('matrices.csv') as f:\n",
    "\n",
    "        nbOfSamples = int(f.readline())\n",
    "        i = 0\n",
    "\n",
    "        shapes = f.readline() # length of sequence + nb of features\n",
    "        input_shape = int(shapes.split(\",\")[1])\n",
    "\n",
    "\n",
    "        distancesList = np.zeros((nbOfSamples, input_shape))\n",
    "        labelList = np.zeros(nbOfSamples)\n",
    "\n",
    "\n",
    "        while i < nbOfSamples:\n",
    "            # Extracting labels\n",
    "            sequence = f.readline().split(\",\")\n",
    "            labelList[i] = convertLabel(sequence)\n",
    "\n",
    "            # Extracting distances\n",
    "            distancesString = f.readline()\n",
    "            distancesArray = np.array([float(s) for s in distancesString.split(\",\")])\n",
    "            distancesList[i, :] = distancesArray\n",
    "\n",
    "            # empty line\n",
    "            f.readline()\n",
    "\n",
    "            i += 1\n",
    "    return input_shape, distancesList, labelList"
   ]
  },
  {
   "cell_type": "markdown",
   "metadata": {},
   "source": [
    "Short sequential model\n"
   ]
  },
  {
   "cell_type": "code",
   "execution_count": 28,
   "metadata": {
    "pycharm": {}
   },
   "outputs": [
    {
     "data": {
      "text/plain": [
       "\"'def create_model():\\n    # activation function: leaky ReLU\\n    leakyrelu = lambda x: keras.activations.relu(x, alpha=0.01, max_value=None, threshold=0)\\n\\n    # creation du reseau de neurones\\n    model = keras.models.Sequential([\\n\\n        # hidden layer\\n        keras.layers.Dense(units = 105, activation = leakyrelu),\\n        keras.layers.Dropout(0.2),\\n        keras.layers.Dense(units = 52, activation = leakyrelu),\\n\\n        # final layer\\n        keras.layers.Dense(units = 22, activation = softmax),\\n    ])\\n\\n    model.compile(optimizer=keras.optimizers.Adam(),\\n                  loss=keras.losses.sparse_categorical_crossentropy,\\n                  metrics=['accuracy'])\\n\\n    return model\""
      ]
     },
     "execution_count": 28,
     "metadata": {},
     "output_type": "execute_result"
    }
   ],
   "source": [
    "''''def create_model():\n",
    "    # activation function: leaky ReLU\n",
    "    leakyrelu = lambda x: keras.activations.relu(x, alpha=0.01, max_value=None, threshold=0)\n",
    "\n",
    "    # creation du reseau de neurones\n",
    "    model = keras.models.Sequential([\n",
    "\n",
    "        # hidden layer\n",
    "        keras.layers.Dense(units = 105, activation = leakyrelu),\n",
    "        keras.layers.Dropout(0.2),\n",
    "        keras.layers.Dense(units = 52, activation = leakyrelu),\n",
    "\n",
    "        # final layer\n",
    "        keras.layers.Dense(units = 22, activation = softmax),\n",
    "    ])\n",
    "\n",
    "    model.compile(optimizer=keras.optimizers.Adam(),\n",
    "                  loss=keras.losses.sparse_categorical_crossentropy,\n",
    "                  metrics=['accuracy'])\n",
    "\n",
    "    return model'''"
   ]
  },
  {
   "cell_type": "code",
   "execution_count": 39,
   "metadata": {},
   "outputs": [],
   "source": [
    "def create_model():\n",
    "    # activation function: leaky ReLU\n",
    "    leakyrelu = lambda x: keras.activations.relu(x, alpha=0.01, max_value=None, threshold=0)\n",
    "\n",
    "    # creation du reseau de neurones\n",
    "    model = keras.models.Sequential([\n",
    "\n",
    "        # hidden layer\n",
    "        keras.layers.Dense(units = 105, activation = leakyrelu),\n",
    "        keras.layers.Dropout(rate=0.2),\n",
    "        keras.layers.Dense(units = 210, activation = leakyrelu),\n",
    "        keras.layers.Dropout(rate=0.2),\n",
    "        keras.layers.Dense(units = 210, activation = leakyrelu),\n",
    "        keras.layers.Dropout(rate=0.2),\n",
    "        keras.layers.Dense(units = 100, activation = leakyrelu),\n",
    "        keras.layers.Dropout(rate=0.2),\n",
    "        keras.layers.Dense(units = 75, activation = leakyrelu),\n",
    "        keras.layers.Dense(units = 53, activation = leakyrelu),\n",
    "\n",
    "        # final layer\n",
    "        keras.layers.Dense(units = 22, activation = nn.softmax),\n",
    "    ])\n",
    "\n",
    "    model.compile(optimizer=keras.optimizers.Adam(),\n",
    "                  loss=keras.losses.sparse_categorical_crossentropy,\n",
    "                  metrics=['accuracy'])\n",
    "\n",
    "    return model"
   ]
  },
  {
   "cell_type": "markdown",
   "metadata": {},
   "source": [
    "Data processing"
   ]
  },
  {
   "cell_type": "code",
   "execution_count": 40,
   "metadata": {
    "pycharm": {}
   },
   "outputs": [],
   "source": [
    "input_shape, distances, labels = load_data()\n",
    "\n",
    "\n",
    "x_train, x_test, y_train, y_test = train_test_split(distances, labels, test_size=0.2, random_state=42)"
   ]
  },
  {
   "cell_type": "markdown",
   "metadata": {},
   "source": [
    "Create checkpoints"
   ]
  },
  {
   "cell_type": "code",
   "execution_count": 41,
   "metadata": {
    "pycharm": {}
   },
   "outputs": [],
   "source": [
    "checkpoint_path = \"checkpoints/checkpoint.ckpt\"\n",
    "checkpoint_dir = os.path.dirname(checkpoint_path)\n",
    "\n",
    "cp_callback = keras.callbacks.ModelCheckpoint(\n",
    "    checkpoint_path, save_weights_only=True, verbose=1,\n",
    "    # save weights, every 5-epoch\n",
    "    period=5)\n",
    "\n",
    "latest = train.latest_checkpoint(checkpoint_dir)"
   ]
  },
  {
   "cell_type": "markdown",
   "metadata": {},
   "source": [
    "Create a model instance"
   ]
  },
  {
   "cell_type": "code",
   "execution_count": 42,
   "metadata": {
    "pycharm": {}
   },
   "outputs": [],
   "source": [
    "model = create_model()\n",
    "\n",
    "if latest: model.load_weights(latest)"
   ]
  },
  {
   "cell_type": "markdown",
   "metadata": {},
   "source": [
    "Training"
   ]
  },
  {
   "cell_type": "code",
   "execution_count": 43,
   "metadata": {
    "pycharm": {
     "metadata": false,
     "name": "#%%\n"
    }
   },
   "outputs": [
    {
     "name": "stdout",
     "output_type": "stream",
     "text": [
      "Train on 976 samples, validate on 245 samples\n",
      "Epoch 1/100\n",
      "976/976 [==============================] - 0s 433us/sample - loss: 4.3315 - accuracy: 0.0686 - val_loss: 2.9991 - val_accuracy: 0.0408\n",
      "Epoch 2/100\n",
      "976/976 [==============================] - 0s 106us/sample - loss: 3.0390 - accuracy: 0.0697 - val_loss: 2.9273 - val_accuracy: 0.0653\n",
      "Epoch 3/100\n",
      "976/976 [==============================] - 0s 102us/sample - loss: 2.9477 - accuracy: 0.1014 - val_loss: 2.9167 - val_accuracy: 0.0980\n",
      "Epoch 4/100\n",
      "976/976 [==============================] - 0s 98us/sample - loss: 2.9377 - accuracy: 0.1096 - val_loss: 2.9192 - val_accuracy: 0.0980\n",
      "Epoch 5/100\n",
      "640/976 [==================>...........] - ETA: 0s - loss: 2.8926 - accuracy: 0.1141\n",
      "Epoch 00005: saving model to checkpoints/checkpoint.ckpt\n",
      "976/976 [==============================] - 0s 121us/sample - loss: 2.9069 - accuracy: 0.1127 - val_loss: 2.9112 - val_accuracy: 0.0980\n",
      "Epoch 6/100\n",
      "976/976 [==============================] - 0s 99us/sample - loss: 2.9093 - accuracy: 0.1189 - val_loss: 2.8994 - val_accuracy: 0.0980\n",
      "Epoch 7/100\n",
      "976/976 [==============================] - 0s 97us/sample - loss: 2.9058 - accuracy: 0.1107 - val_loss: 2.9002 - val_accuracy: 0.0980\n",
      "Epoch 8/100\n",
      "976/976 [==============================] - 0s 96us/sample - loss: 2.9020 - accuracy: 0.1158 - val_loss: 2.9012 - val_accuracy: 0.0980\n",
      "Epoch 9/100\n",
      "976/976 [==============================] - 0s 97us/sample - loss: 2.8967 - accuracy: 0.1209 - val_loss: 2.8964 - val_accuracy: 0.0980\n",
      "Epoch 10/100\n",
      "640/976 [==================>...........] - ETA: 0s - loss: 2.8886 - accuracy: 0.1172\n",
      "Epoch 00010: saving model to checkpoints/checkpoint.ckpt\n",
      "976/976 [==============================] - 0s 124us/sample - loss: 2.8954 - accuracy: 0.1168 - val_loss: 2.8982 - val_accuracy: 0.0980\n",
      "Epoch 11/100\n",
      "976/976 [==============================] - 0s 145us/sample - loss: 2.8976 - accuracy: 0.1189 - val_loss: 2.8872 - val_accuracy: 0.0980\n",
      "Epoch 12/100\n",
      "976/976 [==============================] - 0s 116us/sample - loss: 2.8888 - accuracy: 0.1148 - val_loss: 2.8829 - val_accuracy: 0.0980\n",
      "Epoch 13/100\n",
      "976/976 [==============================] - 0s 103us/sample - loss: 2.8861 - accuracy: 0.1178 - val_loss: 2.8830 - val_accuracy: 0.0980\n",
      "Epoch 14/100\n",
      "976/976 [==============================] - 0s 112us/sample - loss: 2.8760 - accuracy: 0.1209 - val_loss: 2.8816 - val_accuracy: 0.0980\n",
      "Epoch 15/100\n",
      "512/976 [==============>...............] - ETA: 0s - loss: 2.8725 - accuracy: 0.1250\n",
      "Epoch 00015: saving model to checkpoints/checkpoint.ckpt\n",
      "976/976 [==============================] - 0s 146us/sample - loss: 2.8875 - accuracy: 0.1178 - val_loss: 2.8871 - val_accuracy: 0.0980\n",
      "Epoch 16/100\n",
      "976/976 [==============================] - 0s 136us/sample - loss: 2.8880 - accuracy: 0.1168 - val_loss: 2.8864 - val_accuracy: 0.0980\n",
      "Epoch 17/100\n",
      "976/976 [==============================] - 0s 111us/sample - loss: 2.8724 - accuracy: 0.1178 - val_loss: 2.8749 - val_accuracy: 0.0980\n",
      "Epoch 18/100\n",
      "976/976 [==============================] - 0s 111us/sample - loss: 2.8757 - accuracy: 0.1209 - val_loss: 2.8654 - val_accuracy: 0.0980\n",
      "Epoch 19/100\n",
      "976/976 [==============================] - 0s 161us/sample - loss: 2.8777 - accuracy: 0.1219 - val_loss: 2.8668 - val_accuracy: 0.0980\n",
      "Epoch 20/100\n",
      "448/976 [============>.................] - ETA: 0s - loss: 2.8661 - accuracy: 0.1272\n",
      "Epoch 00020: saving model to checkpoints/checkpoint.ckpt\n",
      "976/976 [==============================] - 0s 143us/sample - loss: 2.8749 - accuracy: 0.1168 - val_loss: 2.8605 - val_accuracy: 0.0980\n",
      "Epoch 21/100\n",
      "976/976 [==============================] - 0s 121us/sample - loss: 2.8700 - accuracy: 0.1178 - val_loss: 2.8613 - val_accuracy: 0.0980\n",
      "Epoch 22/100\n",
      "976/976 [==============================] - 0s 130us/sample - loss: 2.8659 - accuracy: 0.1199 - val_loss: 2.8768 - val_accuracy: 0.0980\n",
      "Epoch 23/100\n",
      "976/976 [==============================] - 0s 141us/sample - loss: 2.8684 - accuracy: 0.1219 - val_loss: 2.8516 - val_accuracy: 0.0980\n",
      "Epoch 24/100\n",
      "976/976 [==============================] - 0s 113us/sample - loss: 2.8818 - accuracy: 0.1178 - val_loss: 2.8692 - val_accuracy: 0.0980\n",
      "Epoch 25/100\n",
      "448/976 [============>.................] - ETA: 0s - loss: 2.8716 - accuracy: 0.1161\n",
      "Epoch 00025: saving model to checkpoints/checkpoint.ckpt\n",
      "976/976 [==============================] - 0s 141us/sample - loss: 2.8702 - accuracy: 0.1199 - val_loss: 2.8636 - val_accuracy: 0.0980\n",
      "Epoch 26/100\n",
      "976/976 [==============================] - 0s 125us/sample - loss: 2.8635 - accuracy: 0.1168 - val_loss: 2.8602 - val_accuracy: 0.0980\n",
      "Epoch 27/100\n",
      "976/976 [==============================] - 0s 110us/sample - loss: 2.8602 - accuracy: 0.1209 - val_loss: 2.8614 - val_accuracy: 0.0980\n",
      "Epoch 28/100\n",
      "976/976 [==============================] - 0s 98us/sample - loss: 2.8515 - accuracy: 0.1189 - val_loss: 2.8468 - val_accuracy: 0.0980\n",
      "Epoch 29/100\n",
      "976/976 [==============================] - 0s 103us/sample - loss: 2.8480 - accuracy: 0.1189 - val_loss: 2.8447 - val_accuracy: 0.0980\n",
      "Epoch 30/100\n",
      "576/976 [================>.............] - ETA: 0s - loss: 2.8442 - accuracy: 0.1146\n",
      "Epoch 00030: saving model to checkpoints/checkpoint.ckpt\n",
      "976/976 [==============================] - 0s 126us/sample - loss: 2.8516 - accuracy: 0.1148 - val_loss: 2.8705 - val_accuracy: 0.0980\n",
      "Epoch 31/100\n",
      "976/976 [==============================] - 0s 117us/sample - loss: 2.8486 - accuracy: 0.1219 - val_loss: 2.8513 - val_accuracy: 0.0980\n",
      "Epoch 32/100\n",
      "976/976 [==============================] - 0s 111us/sample - loss: 2.8467 - accuracy: 0.1178 - val_loss: 2.8501 - val_accuracy: 0.0980\n",
      "Epoch 33/100\n",
      "976/976 [==============================] - 0s 98us/sample - loss: 2.8394 - accuracy: 0.1209 - val_loss: 2.8473 - val_accuracy: 0.0980\n",
      "Epoch 34/100\n",
      "976/976 [==============================] - 0s 98us/sample - loss: 2.8309 - accuracy: 0.1230 - val_loss: 2.8528 - val_accuracy: 0.0980\n",
      "Epoch 35/100\n",
      "608/976 [=================>............] - ETA: 0s - loss: 2.8369 - accuracy: 0.1201\n",
      "Epoch 00035: saving model to checkpoints/checkpoint.ckpt\n",
      "976/976 [==============================] - 0s 128us/sample - loss: 2.8482 - accuracy: 0.1178 - val_loss: 2.8546 - val_accuracy: 0.0980\n",
      "Epoch 36/100\n",
      "976/976 [==============================] - 0s 104us/sample - loss: 2.8602 - accuracy: 0.1137 - val_loss: 2.8352 - val_accuracy: 0.0980\n",
      "Epoch 37/100\n",
      "976/976 [==============================] - 0s 110us/sample - loss: 2.8522 - accuracy: 0.1219 - val_loss: 2.8492 - val_accuracy: 0.0980\n",
      "Epoch 38/100\n",
      "976/976 [==============================] - 0s 143us/sample - loss: 2.8422 - accuracy: 0.1158 - val_loss: 2.8490 - val_accuracy: 0.1061\n",
      "Epoch 39/100\n",
      "976/976 [==============================] - 0s 142us/sample - loss: 2.8465 - accuracy: 0.1127 - val_loss: 2.8465 - val_accuracy: 0.0980\n",
      "Epoch 40/100\n",
      "864/976 [=========================>....] - ETA: 0s - loss: 2.8462 - accuracy: 0.1215\n",
      "Epoch 00040: saving model to checkpoints/checkpoint.ckpt\n",
      "976/976 [==============================] - 0s 179us/sample - loss: 2.8422 - accuracy: 0.1230 - val_loss: 2.8416 - val_accuracy: 0.1020\n",
      "Epoch 41/100\n",
      "976/976 [==============================] - 0s 116us/sample - loss: 2.8408 - accuracy: 0.1270 - val_loss: 2.8477 - val_accuracy: 0.1061\n",
      "Epoch 42/100\n",
      "976/976 [==============================] - 0s 111us/sample - loss: 2.8506 - accuracy: 0.1168 - val_loss: 2.8373 - val_accuracy: 0.1020\n",
      "Epoch 43/100\n",
      "976/976 [==============================] - 0s 120us/sample - loss: 2.8349 - accuracy: 0.1178 - val_loss: 2.8451 - val_accuracy: 0.0980\n",
      "Epoch 44/100\n",
      "976/976 [==============================] - 0s 108us/sample - loss: 2.8287 - accuracy: 0.1168 - val_loss: 2.8410 - val_accuracy: 0.0980\n",
      "Epoch 45/100\n",
      "576/976 [================>.............] - ETA: 0s - loss: 2.8241 - accuracy: 0.1250\n",
      "Epoch 00045: saving model to checkpoints/checkpoint.ckpt\n",
      "976/976 [==============================] - 0s 128us/sample - loss: 2.8435 - accuracy: 0.1127 - val_loss: 2.8533 - val_accuracy: 0.0857\n",
      "Epoch 46/100\n",
      "976/976 [==============================] - 0s 109us/sample - loss: 2.8324 - accuracy: 0.1055 - val_loss: 2.8492 - val_accuracy: 0.0980\n",
      "Epoch 47/100\n"
     ]
    },
    {
     "name": "stdout",
     "output_type": "stream",
     "text": [
      "976/976 [==============================] - 0s 105us/sample - loss: 2.8179 - accuracy: 0.1199 - val_loss: 2.8339 - val_accuracy: 0.0980\n",
      "Epoch 48/100\n",
      "976/976 [==============================] - 0s 98us/sample - loss: 2.8148 - accuracy: 0.1189 - val_loss: 2.8342 - val_accuracy: 0.0980\n",
      "Epoch 49/100\n",
      "976/976 [==============================] - 0s 105us/sample - loss: 2.8125 - accuracy: 0.1137 - val_loss: 2.8432 - val_accuracy: 0.1020\n",
      "Epoch 50/100\n",
      "640/976 [==================>...........] - ETA: 0s - loss: 2.8242 - accuracy: 0.1172\n",
      "Epoch 00050: saving model to checkpoints/checkpoint.ckpt\n",
      "976/976 [==============================] - 0s 117us/sample - loss: 2.8245 - accuracy: 0.1199 - val_loss: 2.8409 - val_accuracy: 0.0980\n",
      "Epoch 51/100\n",
      "976/976 [==============================] - 0s 94us/sample - loss: 2.8156 - accuracy: 0.1230 - val_loss: 2.8292 - val_accuracy: 0.0980\n",
      "Epoch 52/100\n",
      "976/976 [==============================] - 0s 91us/sample - loss: 2.8130 - accuracy: 0.1240 - val_loss: 2.8310 - val_accuracy: 0.1265\n",
      "Epoch 53/100\n",
      "976/976 [==============================] - 0s 97us/sample - loss: 2.8163 - accuracy: 0.1168 - val_loss: 2.8321 - val_accuracy: 0.1224\n",
      "Epoch 54/100\n",
      "976/976 [==============================] - 0s 137us/sample - loss: 2.8198 - accuracy: 0.1178 - val_loss: 2.8370 - val_accuracy: 0.1265\n",
      "Epoch 55/100\n",
      "512/976 [==============>...............] - ETA: 0s - loss: 2.7769 - accuracy: 0.1426\n",
      "Epoch 00055: saving model to checkpoints/checkpoint.ckpt\n",
      "976/976 [==============================] - 0s 136us/sample - loss: 2.8131 - accuracy: 0.1240 - val_loss: 2.8445 - val_accuracy: 0.1061\n",
      "Epoch 56/100\n",
      "976/976 [==============================] - 0s 117us/sample - loss: 2.8148 - accuracy: 0.1107 - val_loss: 2.8242 - val_accuracy: 0.1102\n",
      "Epoch 57/100\n",
      "976/976 [==============================] - 0s 130us/sample - loss: 2.8118 - accuracy: 0.1270 - val_loss: 2.8377 - val_accuracy: 0.1265\n",
      "Epoch 58/100\n",
      "976/976 [==============================] - 0s 116us/sample - loss: 2.8204 - accuracy: 0.1230 - val_loss: 2.8197 - val_accuracy: 0.1061\n",
      "Epoch 59/100\n",
      "976/976 [==============================] - 0s 110us/sample - loss: 2.8129 - accuracy: 0.1230 - val_loss: 2.8349 - val_accuracy: 0.1020\n",
      "Epoch 60/100\n",
      "608/976 [=================>............] - ETA: 0s - loss: 2.8157 - accuracy: 0.1201\n",
      "Epoch 00060: saving model to checkpoints/checkpoint.ckpt\n",
      "976/976 [==============================] - 0s 119us/sample - loss: 2.8042 - accuracy: 0.1270 - val_loss: 2.8346 - val_accuracy: 0.1020\n",
      "Epoch 61/100\n",
      "976/976 [==============================] - 0s 105us/sample - loss: 2.7965 - accuracy: 0.1240 - val_loss: 2.8497 - val_accuracy: 0.1143\n",
      "Epoch 62/100\n",
      "976/976 [==============================] - 0s 109us/sample - loss: 2.8044 - accuracy: 0.1270 - val_loss: 2.8207 - val_accuracy: 0.1061\n",
      "Epoch 63/100\n",
      "976/976 [==============================] - 0s 175us/sample - loss: 2.8060 - accuracy: 0.1240 - val_loss: 2.8192 - val_accuracy: 0.1061\n",
      "Epoch 64/100\n",
      "976/976 [==============================] - 0s 150us/sample - loss: 2.7974 - accuracy: 0.1270 - val_loss: 2.8152 - val_accuracy: 0.1102\n",
      "Epoch 65/100\n",
      "864/976 [=========================>....] - ETA: 0s - loss: 2.7916 - accuracy: 0.1262\n",
      "Epoch 00065: saving model to checkpoints/checkpoint.ckpt\n",
      "976/976 [==============================] - 0s 171us/sample - loss: 2.7962 - accuracy: 0.1250 - val_loss: 2.8179 - val_accuracy: 0.1143\n",
      "Epoch 66/100\n",
      "976/976 [==============================] - 0s 151us/sample - loss: 2.7821 - accuracy: 0.1393 - val_loss: 2.8126 - val_accuracy: 0.1061\n",
      "Epoch 67/100\n",
      "976/976 [==============================] - 0s 130us/sample - loss: 2.7908 - accuracy: 0.1332 - val_loss: 2.8147 - val_accuracy: 0.1020\n",
      "Epoch 68/100\n",
      "976/976 [==============================] - 0s 104us/sample - loss: 2.7769 - accuracy: 0.1322 - val_loss: 2.8267 - val_accuracy: 0.1184\n",
      "Epoch 69/100\n",
      "976/976 [==============================] - 0s 103us/sample - loss: 2.7891 - accuracy: 0.1260 - val_loss: 2.8319 - val_accuracy: 0.0980\n",
      "Epoch 70/100\n",
      "608/976 [=================>............] - ETA: 0s - loss: 2.7778 - accuracy: 0.1283\n",
      "Epoch 00070: saving model to checkpoints/checkpoint.ckpt\n",
      "976/976 [==============================] - 0s 126us/sample - loss: 2.7830 - accuracy: 0.1311 - val_loss: 2.8080 - val_accuracy: 0.1020\n",
      "Epoch 71/100\n",
      "976/976 [==============================] - 0s 131us/sample - loss: 2.7687 - accuracy: 0.1414 - val_loss: 2.8029 - val_accuracy: 0.1020\n",
      "Epoch 72/100\n",
      "976/976 [==============================] - 0s 115us/sample - loss: 2.7947 - accuracy: 0.1373 - val_loss: 2.8023 - val_accuracy: 0.1143\n",
      "Epoch 73/100\n",
      "976/976 [==============================] - 0s 118us/sample - loss: 2.7709 - accuracy: 0.1301 - val_loss: 2.8024 - val_accuracy: 0.1265\n",
      "Epoch 74/100\n",
      "976/976 [==============================] - 0s 119us/sample - loss: 2.7800 - accuracy: 0.1373 - val_loss: 2.8010 - val_accuracy: 0.1020\n",
      "Epoch 75/100\n",
      "512/976 [==============>...............] - ETA: 0s - loss: 2.8039 - accuracy: 0.1387\n",
      "Epoch 00075: saving model to checkpoints/checkpoint.ckpt\n",
      "976/976 [==============================] - 0s 138us/sample - loss: 2.7897 - accuracy: 0.1455 - val_loss: 2.7942 - val_accuracy: 0.1061\n",
      "Epoch 76/100\n",
      "976/976 [==============================] - 0s 114us/sample - loss: 2.7841 - accuracy: 0.1373 - val_loss: 2.8101 - val_accuracy: 0.1061\n",
      "Epoch 77/100\n",
      "976/976 [==============================] - 0s 105us/sample - loss: 2.7832 - accuracy: 0.1219 - val_loss: 2.7949 - val_accuracy: 0.1102\n",
      "Epoch 78/100\n",
      "976/976 [==============================] - 0s 101us/sample - loss: 2.7805 - accuracy: 0.1260 - val_loss: 2.8073 - val_accuracy: 0.1143\n",
      "Epoch 79/100\n",
      "976/976 [==============================] - 0s 102us/sample - loss: 2.7635 - accuracy: 0.1393 - val_loss: 2.8020 - val_accuracy: 0.1061\n",
      "Epoch 80/100\n",
      "960/976 [============================>.] - ETA: 0s - loss: 2.7815 - accuracy: 0.1240\n",
      "Epoch 00080: saving model to checkpoints/checkpoint.ckpt\n",
      "976/976 [==============================] - 0s 160us/sample - loss: 2.7769 - accuracy: 0.1250 - val_loss: 2.8047 - val_accuracy: 0.1061\n",
      "Epoch 81/100\n",
      "976/976 [==============================] - 0s 123us/sample - loss: 2.7711 - accuracy: 0.1352 - val_loss: 2.7874 - val_accuracy: 0.1143\n",
      "Epoch 82/100\n",
      "976/976 [==============================] - 0s 113us/sample - loss: 2.7696 - accuracy: 0.1475 - val_loss: 2.7969 - val_accuracy: 0.1020\n",
      "Epoch 83/100\n",
      "976/976 [==============================] - 0s 117us/sample - loss: 2.7809 - accuracy: 0.1393 - val_loss: 2.8139 - val_accuracy: 0.1020\n",
      "Epoch 84/100\n",
      "976/976 [==============================] - 0s 122us/sample - loss: 2.7812 - accuracy: 0.1363 - val_loss: 2.7831 - val_accuracy: 0.1184\n",
      "Epoch 85/100\n",
      "544/976 [===============>..............] - ETA: 0s - loss: 2.7558 - accuracy: 0.1599\n",
      "Epoch 00085: saving model to checkpoints/checkpoint.ckpt\n",
      "976/976 [==============================] - 0s 133us/sample - loss: 2.7594 - accuracy: 0.1424 - val_loss: 2.7804 - val_accuracy: 0.1102\n",
      "Epoch 86/100\n",
      "976/976 [==============================] - 0s 110us/sample - loss: 2.7507 - accuracy: 0.1363 - val_loss: 2.8111 - val_accuracy: 0.1143\n",
      "Epoch 87/100\n",
      "976/976 [==============================] - 0s 104us/sample - loss: 2.7502 - accuracy: 0.1506 - val_loss: 2.7967 - val_accuracy: 0.1061\n",
      "Epoch 88/100\n",
      "976/976 [==============================] - 0s 102us/sample - loss: 2.7700 - accuracy: 0.1393 - val_loss: 2.7899 - val_accuracy: 0.1061\n",
      "Epoch 89/100\n",
      "976/976 [==============================] - 0s 104us/sample - loss: 2.7517 - accuracy: 0.1465 - val_loss: 2.8060 - val_accuracy: 0.1102\n",
      "Epoch 90/100\n",
      "928/976 [===========================>..] - ETA: 0s - loss: 2.7576 - accuracy: 0.1433\n",
      "Epoch 00090: saving model to checkpoints/checkpoint.ckpt\n",
      "976/976 [==============================] - 0s 164us/sample - loss: 2.7601 - accuracy: 0.1424 - val_loss: 2.7911 - val_accuracy: 0.1061\n",
      "Epoch 91/100\n",
      "976/976 [==============================] - 0s 104us/sample - loss: 2.7583 - accuracy: 0.1434 - val_loss: 2.7879 - val_accuracy: 0.1265\n",
      "Epoch 92/100\n",
      "976/976 [==============================] - 0s 99us/sample - loss: 2.7808 - accuracy: 0.1424 - val_loss: 2.8196 - val_accuracy: 0.1102\n",
      "Epoch 93/100\n",
      "976/976 [==============================] - 0s 107us/sample - loss: 2.7391 - accuracy: 0.1455 - val_loss: 2.7745 - val_accuracy: 0.1143\n"
     ]
    },
    {
     "name": "stdout",
     "output_type": "stream",
     "text": [
      "Epoch 94/100\n",
      "976/976 [==============================] - 0s 103us/sample - loss: 2.7451 - accuracy: 0.1414 - val_loss: 2.7733 - val_accuracy: 0.1020\n",
      "Epoch 95/100\n",
      "640/976 [==================>...........] - ETA: 0s - loss: 2.7198 - accuracy: 0.1484    \n",
      "Epoch 00095: saving model to checkpoints/checkpoint.ckpt\n",
      "976/976 [==============================] - 0s 120us/sample - loss: 2.7343 - accuracy: 0.1363 - val_loss: 2.7600 - val_accuracy: 0.1184\n",
      "Epoch 96/100\n",
      "976/976 [==============================] - 0s 102us/sample - loss: 2.7347 - accuracy: 0.1465 - val_loss: 2.7837 - val_accuracy: 0.1143\n",
      "Epoch 97/100\n",
      "976/976 [==============================] - 0s 100us/sample - loss: 2.7376 - accuracy: 0.1516 - val_loss: 2.7587 - val_accuracy: 0.1020\n",
      "Epoch 98/100\n",
      "976/976 [==============================] - 0s 104us/sample - loss: 2.7220 - accuracy: 0.1588 - val_loss: 2.7499 - val_accuracy: 0.1184\n",
      "Epoch 99/100\n",
      "976/976 [==============================] - 0s 103us/sample - loss: 2.7164 - accuracy: 0.1578 - val_loss: 2.7669 - val_accuracy: 0.1061\n",
      "Epoch 100/100\n",
      "640/976 [==================>...........] - ETA: 0s - loss: 2.7144 - accuracy: 0.1656\n",
      "Epoch 00100: saving model to checkpoints/checkpoint.ckpt\n",
      "976/976 [==============================] - 0s 138us/sample - loss: 2.7293 - accuracy: 0.1527 - val_loss: 2.7797 - val_accuracy: 0.1102\n"
     ]
    }
   ],
   "source": [
    "model.fit(x_train, y_train, epochs = 100,\n",
    "          validation_data = (x_test, y_test),\n",
    "          callbacks = [cp_callback]) # save checkpoints at the end of each epoch\n",
    "\n",
    "model.save('my_model.h5')"
   ]
  },
  {
   "cell_type": "code",
   "execution_count": null,
   "metadata": {
    "pycharm": {}
   },
   "outputs": [],
   "source": []
  }
 ],
 "metadata": {
  "kernelspec": {
   "display_name": "Python 3",
   "language": "python",
   "name": "python3"
  },
  "language_info": {
   "codemirror_mode": {
    "name": "ipython",
    "version": 3
   },
   "file_extension": ".py",
   "mimetype": "text/x-python",
   "name": "python",
   "nbconvert_exporter": "python",
   "pygments_lexer": "ipython3",
   "version": "3.6.8"
  }
 },
 "nbformat": 4,
 "nbformat_minor": 1
}
