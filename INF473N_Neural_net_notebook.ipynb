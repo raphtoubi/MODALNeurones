{
  "cells": [
    {
      "cell_type": "code",
      "execution_count": 1,
      "metadata": {
        "pycharm": {}
      },
      "outputs": [],
      "source": [
        "import os as os\n",
        "\n",
        "import numpy as np\n",
        "\n",
        "import tensorflow.keras as keras\n",
        "import tensorflow.train as train\n",
        "import tensorflow.nn as nn\n",
        "\n",
        "from sklearn.model_selection import train_test_split"
      ]
    },
    {
      "cell_type": "code",
      "execution_count": 2,
      "metadata": {
        "pycharm": {}
      },
      "outputs": [],
      "source": [
        "def convertLabel(sequence): #gives a nb to the aminoacid\n",
        "    label \u003d sequence[7]\n",
        "    aminoacidList \u003d [\"ALA\", \"ARG\", \"ASN\", \"ASP\", \"CYS\", \"GLU\", \"GLN\", \"GLY\", \"HIS\", \"ILE\",\n",
        "                    \"LEU\", \"LYS\", \"MET\", \"PHE\", \"PRO\", \"PYL\", \"SEL\", \"SER\", \"THR\", \"TRP\", \"TYR\", \"VAL\"]\n",
        "    for i in range (0, 22):\n",
        "        if label \u003d\u003d aminoacidList[i]:\n",
        "            return i"
      ]
    },
    {
      "cell_type": "code",
      "execution_count": 3,
      "metadata": {
        "pycharm": {
          "metadata": false,
          "name": "#%%\n"
        }
      },
      "outputs": [],
      "source": [
        "def load_data():\n",
        "\n",
        "\n",
        "    labelList \u003d []\n",
        "\n",
        "    with open(\u0027matrix.csv\u0027) as f:\n",
        "\n",
        "        nbOfSamples \u003d int(f.readline())\n",
        "        i \u003d 0\n",
        "\n",
        "        shapes \u003d f.readline() # length of sequence + nb of features\n",
        "        input_shape \u003d int(shapes.split(\",\")[1])\n",
        "\n",
        "\n",
        "        distancesList \u003d np.zeros((nbOfSamples, input_shape))\n",
        "        labelList \u003d np.zeros(nbOfSamples)\n",
        "\n",
        "\n",
        "        while i \u003c nbOfSamples:\n",
        "            # Extracting labels\n",
        "            sequence \u003d f.readline().split(\",\")\n",
        "            labelList[i] \u003d convertLabel(sequence)\n",
        "\n",
        "            # Extracting distances\n",
        "            distancesString \u003d f.readline()\n",
        "            distancesArray \u003d np.array([float(s) for s in distancesString.split(\",\")])\n",
        "            distancesList[i, :] \u003d distancesArray\n",
        "\n",
        "            # empty line\n",
        "            f.readline()\n",
        "\n",
        "            i +\u003d 1\n",
        "    return input_shape, distancesList, labelList"
      ]
    },
    {
      "cell_type": "code",
      "execution_count": 4,
      "metadata": {
        "pycharm": {}
      },
      "outputs": [],
      "source": "# returns a short sequential model\ndef create_model():\n    # activation function: leaky ReLU\n    leakyrelu \u003d lambda x: keras.activations.relu(x, alpha\u003d0.01, max_value\u003dNone, threshold\u003d0)\n\n    # creation du reseau de neurones\n    model \u003d keras.models.Sequential([\n\n        # hidden layer\n        keras.layers.Dense(units \u003d 500, activation \u003d leakyrelu),\n        keras.layers.Dropout(rate\u003d0.2),\n        keras.layers.Dense(units \u003d 300, activation \u003d leakyrelu),\n        keras.layers.Dropout(rate\u003d0.2),\n        keras.layers.Dense(units \u003d 200, activation \u003d leakyrelu),\n        keras.layers.Dropout(rate\u003d0.2),\n        keras.layers.Dense(units \u003d 100, activation \u003d leakyrelu),\n        keras.layers.Dropout(rate\u003d0.2),\n        keras.layers.Dense(units \u003d 75, activation \u003d leakyrelu),\n        keras.layers.Dropout(rate\u003d0.2),\n        keras.layers.Dense(units \u003d 53, activation \u003d leakyrelu),\n        keras.layers.Dropout(rate\u003d0.2),\n\n        # final layer\n        keras.layers.Dense(units \u003d 22, activation \u003d nn.softmax),\n    ])\n\n    model.compile(optimizer\u003dkeras.optimizers.Adam(),\n                  loss\u003dkeras.losses.sparse_categorical_crossentropy,\n                  metrics\u003d[\u0027accuracy\u0027])\n\n    return model"
    },
    {
      "cell_type": "code",
      "execution_count": 5,
      "metadata": {
        "pycharm": {}
      },
      "outputs": [],
      "source": [
        "# Data processing\n",
        "input_shape, distances, labels \u003d load_data()\n",
        "\n",
        "\n",
        "x_train, x_test, y_train, y_test \u003d train_test_split(\n",
        "    distances, labels, test_size\u003d0.2, random_state\u003d42)"
      ]
    },
    {
      "cell_type": "code",
      "execution_count": 6,
      "metadata": {
        "pycharm": {}
      },
      "outputs": [],
      "source": "# Create checkppoints\n\ncheckpoint_path \u003d \"checkpoints/checkpoint.ckpt\"\ncheckpoint_dir \u003d os.path.dirname(checkpoint_path)\n\ncp_callback \u003d keras.callbacks.ModelCheckpoint(\n    checkpoint_path, save_weights_only\u003dTrue, verbose\u003d1,\n    # save weights, every 5-epoch\n    period\u003d5)\n\nlatest \u003d train.latest_checkpoint(checkpoint_dir)"
    },
    {
      "cell_type": "code",
      "execution_count": 7,
      "metadata": {
        "pycharm": {}
      },
      "outputs": [
        {
          "name": "stdout",
          "output_type": "stream",
          "text": [
            "WARNING:tensorflow:From /Users/Nicolas/Programmation/Python/PycharmProjects/MODALNeurones/venv/lib/python3.7/site-packages/tensorflow/python/ops/resource_variable_ops.py:435: colocate_with (from tensorflow.python.framework.ops) is deprecated and will be removed in a future version.\n",
            "Instructions for updating:\n",
            "Colocations handled automatically by placer.\n"
          ]
        }
      ],
      "source": [
        "# create a model instance\n",
        "\n",
        "model \u003d create_model()\n",
        "\n",
        "if latest: model.load_weights(latest)"
      ]
    },
    {
      "cell_type": "code",
      "execution_count": null,
      "metadata": {
        "pycharm": {
          "metadata": false,
          "name": "#%%\n"
        }
      },
      "outputs": [],
      "source": "# training\nmodel.fit(x_train, y_train, epochs \u003d 500,\n          validation_data \u003d (x_test, y_test),\n          callbacks \u003d [cp_callback]) # save checkpoints at the end of each epoch\n\nmodel.save(\u0027my_model.h5\u0027)"
    },
    {
      "cell_type": "code",
      "execution_count": null,
      "metadata": {
        "pycharm": {}
      },
      "outputs": [],
      "source": []
    }
  ],
  "metadata": {
    "kernelspec": {
      "display_name": "Python 3",
      "language": "python",
      "name": "python3"
    },
    "language_info": {
      "codemirror_mode": {
        "name": "ipython",
        "version": 3
      },
      "file_extension": ".py",
      "mimetype": "text/x-python",
      "name": "python",
      "nbconvert_exporter": "python",
      "pygments_lexer": "ipython3",
      "version": "3.7.2"
    }
  },
  "nbformat": 4,
  "nbformat_minor": 1
}